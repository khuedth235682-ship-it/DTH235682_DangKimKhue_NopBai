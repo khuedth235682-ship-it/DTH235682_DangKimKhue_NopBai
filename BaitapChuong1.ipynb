{
 "cells": [
  {
   "cell_type": "code",
   "execution_count": 31,
   "metadata": {
    "colab": {
     "base_uri": "https://localhost:8080/"
    },
    "executionInfo": {
     "elapsed": 43,
     "status": "ok",
     "timestamp": 1756217421520,
     "user": {
      "displayName": "BUI THI NGOC LOI",
      "userId": "00984907920815667730"
     },
     "user_tz": -420
    },
    "id": "-BCPbYla_jJg",
    "outputId": "b62a31df-5806-408f-ff97-a6504402c912"
   },
   "outputs": [
    {
     "name": "stdout",
     "output_type": "stream",
     "text": [
      "Hello World!\n"
     ]
    }
   ],
   "source": [
    "print(\"Hello World!\")\n"
   ]
  },
  {
   "cell_type": "code",
   "execution_count": 32,
   "metadata": {
    "colab": {
     "base_uri": "https://localhost:8080/"
    },
    "executionInfo": {
     "elapsed": 33,
     "status": "ok",
     "timestamp": 1756217421554,
     "user": {
      "displayName": "BUI THI NGOC LOI",
      "userId": "00984907920815667730"
     },
     "user_tz": -420
    },
    "id": "PZm6SWRVA93R",
    "outputId": "ff530507-906a-4038-8cf3-d02bd39dc482"
   },
   "outputs": [
    {
     "name": "stdout",
     "output_type": "stream",
     "text": [
      "Albert Einstein đã từng nói: Một người không bao giờ mắc sai lầm không bao giờ thử bất kì điều gì mới.\n"
     ]
    }
   ],
   "source": [
    "print(\"Albert Einstein đã từng nói: Một người không bao giờ mắc sai lầm không bao giờ thử bất kì điều gì mới.\")"
   ]
  },
  {
   "cell_type": "code",
   "execution_count": 33,
   "metadata": {
    "colab": {
     "base_uri": "https://localhost:8080/"
    },
    "executionInfo": {
     "elapsed": 25,
     "status": "ok",
     "timestamp": 1756217421580,
     "user": {
      "displayName": "BUI THI NGOC LOI",
      "userId": "00984907920815667730"
     },
     "user_tz": -420
    },
    "id": "Xs_rqJ_XBSGI",
    "outputId": "976f1476-a3e3-45c5-a4a2-96c1da8495cd"
   },
   "outputs": [
    {
     "name": "stdout",
     "output_type": "stream",
     "text": [
      "Five is greater than tow!\n"
     ]
    }
   ],
   "source": [
    "if 5 > 2:\n",
    "  print(\"Five is greater than tow!\")"
   ]
  },
  {
   "cell_type": "code",
   "execution_count": 34,
   "metadata": {
    "colab": {
     "base_uri": "https://localhost:8080/"
    },
    "executionInfo": {
     "elapsed": 1111,
     "status": "ok",
     "timestamp": 1756217422692,
     "user": {
      "displayName": "BUI THI NGOC LOI",
      "userId": "00984907920815667730"
     },
     "user_tz": -420
    },
    "id": "cx0InrEwCs0k",
    "outputId": "a10e44b9-8dd4-4602-a0c2-27a771fadb9b"
   },
   "outputs": [
    {
     "name": "stdout",
     "output_type": "stream",
     "text": [
      "6\n",
      "Hello Python!\n"
     ]
    }
   ],
   "source": [
    "total=0\n",
    "total=1+\\\n",
    "2+\\\n",
    "3\n",
    "print(total);print(\"Hello Python!\")"
   ]
  },
  {
   "cell_type": "code",
   "execution_count": 35,
   "metadata": {
    "colab": {
     "base_uri": "https://localhost:8080/"
    },
    "executionInfo": {
     "elapsed": 693,
     "status": "ok",
     "timestamp": 1756217422692,
     "user": {
      "displayName": "BUI THI NGOC LOI",
      "userId": "00984907920815667730"
     },
     "user_tz": -420
    },
    "id": "XMMth6anDFc_",
    "outputId": "68cf2401-550a-4d89-b89f-d0235f426d7d"
   },
   "outputs": [
    {
     "name": "stdout",
     "output_type": "stream",
     "text": [
      "True\n"
     ]
    }
   ],
   "source": [
    "if True:\n",
    "  print(\"True\")\n",
    "else:\n",
    "  print(\"False\")"
   ]
  },
  {
   "cell_type": "code",
   "execution_count": 36,
   "metadata": {
    "colab": {
     "base_uri": "https://localhost:8080/"
    },
    "executionInfo": {
     "elapsed": 8,
     "status": "ok",
     "timestamp": 1756217422693,
     "user": {
      "displayName": "BUI THI NGOC LOI",
      "userId": "00984907920815667730"
     },
     "user_tz": -420
    },
    "id": "jGXeFQOsDVxt",
    "outputId": "491e8461-6f9d-45ce-f85e-2e39cfda9864"
   },
   "outputs": [
    {
     "name": "stdout",
     "output_type": "stream",
     "text": [
      "Hello Wprdl!\n"
     ]
    }
   ],
   "source": [
    "#This is a comment\n",
    "print(\"Hello Wprdl!\")"
   ]
  },
  {
   "cell_type": "code",
   "execution_count": 37,
   "metadata": {
    "executionInfo": {
     "elapsed": 5,
     "status": "ok",
     "timestamp": 1756217422693,
     "user": {
      "displayName": "BUI THI NGOC LOI",
      "userId": "00984907920815667730"
     },
     "user_tz": -420
    },
    "id": "CfH26phgFAQ1"
   },
   "outputs": [],
   "source": [
    "def add(a,b):\n",
    "  result = a + b\n",
    "  return result"
   ]
  },
  {
   "cell_type": "code",
   "execution_count": 38,
   "metadata": {
    "colab": {
     "base_uri": "https://localhost:8080/"
    },
    "executionInfo": {
     "elapsed": 5,
     "status": "ok",
     "timestamp": 1756217422694,
     "user": {
      "displayName": "BUI THI NGOC LOI",
      "userId": "00984907920815667730"
     },
     "user_tz": -420
    },
    "id": "RM_j8ykZpQ5e",
    "outputId": "e15bfba5-92ec-4fb9-92d7-c01c88b77cf0"
   },
   "outputs": [
    {
     "name": "stdout",
     "output_type": "stream",
     "text": [
      "9\n"
     ]
    }
   ],
   "source": [
    "def add(a,b):\n",
    "    result = a + b\n",
    "    return result\n",
    "print(add(4,5))"
   ]
  },
  {
   "cell_type": "code",
   "execution_count": 39,
   "metadata": {
    "colab": {
     "base_uri": "https://localhost:8080/"
    },
    "executionInfo": {
     "elapsed": 68,
     "status": "ok",
     "timestamp": 1756217422762,
     "user": {
      "displayName": "BUI THI NGOC LOI",
      "userId": "00984907920815667730"
     },
     "user_tz": -420
    },
    "id": "STSmtQkwF0fs",
    "outputId": "3a51ae98-ffe2-4bd0-c968-27970f2c5669"
   },
   "outputs": [
    {
     "name": "stdout",
     "output_type": "stream",
     "text": [
      "Chao cac ban!\n"
     ]
    }
   ],
   "source": [
    "print(\"Chao cac ban!\")"
   ]
  },
  {
   "cell_type": "code",
   "execution_count": null,
   "metadata": {
    "colab": {
     "base_uri": "https://localhost:8080/"
    },
    "executionInfo": {
     "elapsed": 4,
     "status": "ok",
     "timestamp": 1756217422767,
     "user": {
      "displayName": "BUI THI NGOC LOI",
      "userId": "00984907920815667730"
     },
     "user_tz": -420
    },
    "id": "FAK1INUiF7Lm",
    "outputId": "9a9af874-b8de-47f5-b1da-839a095f01f1"
   },
   "outputs": [
    {
     "name": "stdout",
     "output_type": "stream",
     "text": [
      "Đặng Kim Khuê\n"
     ]
    }
   ],
   "source": [
    "print(\"Đặng Kim Khuê\")"
   ]
  },
  {
   "cell_type": "code",
   "execution_count": 41,
   "metadata": {
    "executionInfo": {
     "elapsed": 1,
     "status": "ok",
     "timestamp": 1756217422769,
     "user": {
      "displayName": "BUI THI NGOC LOI",
      "userId": "00984907920815667730"
     },
     "user_tz": -420
    },
    "id": "m5knh4kWtshU"
   },
   "outputs": [],
   "source": [
    "# Tạo file module1.py\n",
    "with open(\"module1.py\", \"w\") as f:\n",
    "    f.write('question = \"What is the meaning of Life, the Universe and Everything?\"\\n')\n",
    "    f.write('answer = 42\\n')\n",
    "\n",
    "# Tạo file module2.py\n",
    "with open(\"module2.py\", \"w\") as f:\n",
    "    f.write('question = \"What is your quest?\"\\n')\n",
    "    f.write('answer = \"To seek the holy grail.\"\\n')"
   ]
  },
  {
   "cell_type": "code",
   "execution_count": 42,
   "metadata": {
    "colab": {
     "base_uri": "https://localhost:8080/"
    },
    "executionInfo": {
     "elapsed": 3,
     "status": "ok",
     "timestamp": 1756217422773,
     "user": {
      "displayName": "BUI THI NGOC LOI",
      "userId": "00984907920815667730"
     },
     "user_tz": -420
    },
    "id": "zMXD4A7jsE6r",
    "outputId": "a853dd0d-5b47-49ed-a513-1671ab731b08"
   },
   "outputs": [
    {
     "name": "stdout",
     "output_type": "stream",
     "text": [
      "What is the meaning of Life, the Universe and Everything?\n",
      "What is your quest?\n",
      "42\n",
      "To seek the holy grail.\n"
     ]
    }
   ],
   "source": [
    "import module1\n",
    "import module2\n",
    "\n",
    "print(module1.question)\n",
    "print(module2.question)\n",
    "print(module1.answer)\n",
    "print(module2.answer)"
   ]
  }
 ],
 "metadata": {
  "colab": {
   "authorship_tag": "ABX9TyNwIQYixqrbcghNDEbMKRfT",
   "provenance": []
  },
  "kernelspec": {
   "display_name": "Python 3",
   "name": "python3"
  },
  "language_info": {
   "name": "python"
  }
 },
 "nbformat": 4,
 "nbformat_minor": 0
}
