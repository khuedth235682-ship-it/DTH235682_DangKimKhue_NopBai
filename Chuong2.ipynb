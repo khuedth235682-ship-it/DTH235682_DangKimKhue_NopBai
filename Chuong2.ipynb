{
  "nbformat": 4,
  "nbformat_minor": 0,
  "metadata": {
    "colab": {
      "provenance": [],
      "authorship_tag": "ABX9TyMkb4P2lWfUXda+A7Xu9jFl",
      "include_colab_link": true
    },
    "kernelspec": {
      "name": "python3",
      "display_name": "Python 3"
    },
    "language_info": {
      "name": "python"
    }
  },
  "cells": [
    {
      "cell_type": "markdown",
      "metadata": {
        "id": "view-in-github",
        "colab_type": "text"
      },
      "source": [
        "<a href=\"https://colab.research.google.com/github/khuedth235682-ship-it/DTH235682_DangKimKhue_NopBai/blob/main/Chuong2.ipynb\" target=\"_parent\"><img src=\"https://colab.research.google.com/assets/colab-badge.svg\" alt=\"Open In Colab\"/></a>"
      ]
    },
    {
      "cell_type": "code",
      "execution_count": 1,
      "metadata": {
        "id": "C1qRjpDyT1MT",
        "colab": {
          "base_uri": "https://localhost:8080/"
        },
        "outputId": "3a64928d-ea9f-4954-8b3d-9e4ffccbaa75"
      },
      "outputs": [
        {
          "output_type": "stream",
          "name": "stdout",
          "text": [
            "Mời bạn nhập bán kính hình tròn:3\n",
            "Chu vi = 18.84955592153876\n",
            "Diện tích= 9.0\n"
          ]
        }
      ],
      "source": [
        "9#Cau1\n",
        "import math\n",
        "try:\n",
        " r=float(input(\"Mời bạn nhập bán kính hình tròn:\"))\n",
        " cv=2*math.pi*r\n",
        " dt=r**2\n",
        " print(\"Chu vi =\",cv)\n",
        " print(\"Diện tích=\",dt)\n",
        "except:\n",
        " print(\"Lỗi rồi!\")"
      ]
    },
    {
      "cell_type": "code",
      "source": [
        "#Cau2\n",
        "t=int(input(\"Nhập số giây:\"))\n",
        "hour=(t//3600)%24\n",
        "minute=(t%3600)//60\n",
        "second=(t%3600)%60\n",
        "print(hour,\":\",minute,\":\",second)"
      ],
      "metadata": {
        "colab": {
          "base_uri": "https://localhost:8080/"
        },
        "id": "i8D01JDlV0CT",
        "outputId": "722c8bd8-652e-420e-aa8d-f716a376e41b"
      },
      "execution_count": 2,
      "outputs": [
        {
          "output_type": "stream",
          "name": "stdout",
          "text": [
            "Nhập số giây:345\n",
            "0 : 5 : 45\n"
          ]
        }
      ]
    },
    {
      "cell_type": "code",
      "source": [
        "#Cau3\n",
        "toan=float(input(\"Nhập điểm Toán:\"))\n",
        "ly=float(input(\"Nhập điểm lý:\"))\n",
        "hoa=float(input(\"Nhập điểm hóa:\"))\n",
        "dtb=(toan+ly+hoa)/3\n",
        "print(\"Điểm trung bình=\",dtb)\n",
        "print(\"Điểm trung bình=\",round(dtb,2))"
      ],
      "metadata": {
        "id": "aC8311joWEzz",
        "outputId": "55587be7-ad9d-41c5-989f-e6779524592a",
        "colab": {
          "base_uri": "https://localhost:8080/"
        }
      },
      "execution_count": 3,
      "outputs": [
        {
          "output_type": "stream",
          "name": "stdout",
          "text": [
            "Nhập điểm Toán:7\n",
            "Nhập điểm lý:8\n",
            "Nhập điểm hóa:9\n",
            "Điểm trung bình= 8.0\n",
            "Điểm trung bình= 8.0\n"
          ]
        }
      ]
    },
    {
      "cell_type": "markdown",
      "source": [
        "Câu 4: Python hỗ trợ các kiểu dữ liệu cơ bản sau: int, float, complex, str, bool, list, tuple, set, frozenset, dict, và NoneType."
      ],
      "metadata": {
        "id": "OcMwWAeQk18H"
      }
    },
    {
      "cell_type": "markdown",
      "source": [
        "Câu 5: Ghi chú một dòng → dùng #.\n",
        "\n",
        "Ghi chú nhiều dòng → dùng ''' ... ''' hoặc \"\"\" ... \"\"\".\n",
        "\n",
        "Docstring → ghi chú tài liệu cho hàm, lớp, module."
      ],
      "metadata": {
        "id": "FUkEDAw3k2_R"
      }
    },
    {
      "cell_type": "markdown",
      "source": [
        "Câu 6: ý nghĩa của từng toán tử:\n",
        "/: Chia thường (kết quả float). //: Chia lấy nguyên (floor division). %: Chia lấy dư. **: Lũy thừa. and: Logic AND (cả 2 đúng mới True). or: Logic OR (1 trong 2 đúng là True). is: So sánh địa chỉ (cùng object hay không)."
      ],
      "metadata": {
        "id": "e4vUO-BTk6lv"
      }
    },
    {
      "cell_type": "code",
      "source": [
        "\n",
        "#Cau 7\n",
        "#nhập chuỗi\n",
        "name = input(\"Nhập tên của bạn: \")\n",
        "print(\"Xin chào,\", name)\n",
        "#nhập số nguyên\n",
        "age = int(input(\"Nhập tuổi: \"))\n",
        "print(\"Năm sau bạn sẽ:\", age + 1)\n",
        "#Nhập số thực\n",
        "score = float(input(\"Nhập điểm số: \"))\n",
        "print(\"Điểm bạn vừa nhập:\", score)\n",
        "#Nhập nhiều giá trị trên một dòng (dùng split())\n",
        "a, b = input(\"Nhập hai số cách nhau bởi dấu cách: \").split()\n",
        "print(\"Số 1:\", a, \"Số 2:\", b)\n",
        "#Nhập danh sách nhiều phần tử\n",
        "numbers = list(map(int, input(\"Nhập các số nguyên: \").split()))\n",
        "print(\"Danh sách:\", numbers)\n",
        "#Nhập nhiều dòng (dùng vòng lặp)\n",
        "print(\"Nhập 3 dòng:\")\n",
        "lines = []\n",
        "for i in range(3):\n",
        "    s = input()\n",
        "    lines.append(s)\n",
        "print(\"Bạn đã nhập:\", lines)"
      ],
      "metadata": {
        "colab": {
          "base_uri": "https://localhost:8080/"
        },
        "id": "MeUCTq3wk_pA",
        "outputId": "cb18104e-5353-4ec0-b538-d2ab8d754e40"
      },
      "execution_count": 4,
      "outputs": [
        {
          "output_type": "stream",
          "name": "stdout",
          "text": [
            "Nhập tên của bạn: ngocloi\n",
            "Xin chào, ngocloi\n",
            "Nhập tuổi: 23\n",
            "Năm sau bạn sẽ: 24\n",
            "Nhập điểm số: 10\n",
            "Điểm bạn vừa nhập: 10.0\n",
            "Nhập hai số cách nhau bởi dấu cách: 2 4\n",
            "Số 1: 2 Số 2: 4\n",
            "Nhập các số nguyên: 45\n",
            "Danh sách: [45]\n",
            "Nhập 3 dòng:\n",
            "dff\n",
            "f\n",
            "f\n",
            "Bạn đã nhập: ['dff', 'f', 'f']\n"
          ]
        }
      ]
    },
    {
      "cell_type": "markdown",
      "source": [
        "Câu 8: Lỗi cú pháp → sai quy tắc viết code.\n",
        "\n",
        "Lỗi runtime (exception) → xảy ra khi chạy (chia cho 0, sai kiểu dữ liệu...).\n",
        "\n",
        "Lỗi logic → kết quả sai, khó phát hiện. Để xử lý lỗi, dùng try – except – else – finally giúp chương trình không bị dừng đột ngột."
      ],
      "metadata": {
        "id": "c14cAt_AlFfa"
      }
    },
    {
      "cell_type": "markdown",
      "source": [
        "Câu 9:Kết quả: (a) i1 + (i2 * i3) = 2 + (5 * -3) = 2 + (-15) = -13\n",
        "\n",
        "(b) i1 * (i2 + i3) = 2 * (5 + -3) = 2 * 2 = 4\n",
        "\n",
        "(c) i1 / (i2 + i3) = 2 / (5 + -3) = 2 / 2 = 1.0\n",
        "\n",
        "(d) i1 // (i2 + i3) = 2 // (5 + -3) = 2 // 2 = 1\n",
        "\n",
        "(e) i1 / i2 + i3 = (2 / 5) + (-3) = 0.4 + (-3) = -2.6\n",
        "\n",
        "(f) i1 // i2 + i3 = (2 // 5) + (-3) = 0 + (-3) = -3\n",
        "\n",
        "(g) 3 + 4 + 5 / 3 = 3 + 4 + (5 / 3) = 3 + 4 + 1.666... = 8.666...\n",
        "\n",
        "(h) 3 + 4 + 5 // 3 = 3 + 4 + (5 // 3) = 3 + 4 + 1 = 8\n",
        "\n",
        "(i) (3 + 4 + 5) / 3 = (12) / 3 = 4.0\n",
        "\n",
        "(j) (3 + 4 + 5) // 3 = (12) // 3 = 4\n",
        "\n",
        "(k) d1 + (d2 * d3) = 2.0 + (5.0 * -0.5) = 2.0 + (-2.5) = -0.5\n",
        "\n",
        "(l) d1 + d2 * d3 = 2.0 + 5.0 * -0.5 = 2.0 + (-2.5) = -0.5\n",
        "\n",
        "(m) d1 / d2 - d3 = (2.0 / 5.0) - (-0.5) = 0.4 + 0.5 = 0.9\n",
        "\n",
        "(n) d1 / (d2 - d3) = 2.0 / (5.0 - (-0.5)) = 2.0 / 5.5 ≈ 0.3636\n",
        "\n",
        "(o) d1 + d2 + d3 / 3 = 2.0 + 5.0 + (-0.5 / 3) = 2.0 + 5.0 + (-0.1666...) = 6.833...\n",
        "\n",
        "(p) (d1 + d2 + d3) / 3 = (2.0 + 5.0 + -0.5) / 3 = (6.5) / 3 ≈ 2.166...\n",
        "\n",
        "(q) d1 + d2 + (d3 / 3) = 2.0 + 5.0 + (-0.5 / 3) = 2.0 + 5.0 + (-0.1666...) = 6.833...\n",
        "\n",
        "(r) 3 * (d1 + d2) * (d1 - d3) = 3 * (2.0 + 5.0) * (2.0 - (-0.5)) = 3 * 7.0 * 2.5 = 52.5 Giải thích: Phép nhân, chia, chia lấy nguyên (), cộng, trừ thực hiện theo thứ tự ưu tiên toán học. Nếu có dấu ngoặc, thực hiện trong ngoặc trước. Chia / cho kết quả float, chia lấy nguyên cho kết quả int nếu cả hai toán hạng là int, ngược lại là float. Phép cộng/trừ float và int cho kết quả float."
      ],
      "metadata": {
        "id": "Nr8tw9_6lGd3"
      }
    },
    {
      "cell_type": "markdown",
      "source": [
        "Câu 10: (a) x += 1\n",
        "\n",
        "(b) x /= 2\n",
        "\n",
        "(c) x -= 1\n",
        "\n",
        "(d) x += y\n",
        "\n",
        "(e) x -= (y + 7)\n",
        "\n",
        "(f) x *= 2\n",
        "\n",
        "(g) number_of_closed_cases += 2 * ncc"
      ],
      "metadata": {
        "id": "fYrpsY0ClNuu"
      }
    }
  ]
}